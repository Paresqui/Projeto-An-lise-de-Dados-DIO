{
 "cells": [
  {
   "cell_type": "markdown",
   "id": "7ac7877d",
   "metadata": {},
   "source": [
    "##  Análise de Dados - Dataset Gapminder\n",
    "por Gabriela L. Paresqui"
   ]
  },
  {
   "cell_type": "markdown",
   "id": "6cae9f28",
   "metadata": {},
   "source": [
    "### Leitura dos Dados"
   ]
  },
  {
   "cell_type": "code",
   "execution_count": 582,
   "id": "ec569135",
   "metadata": {},
   "outputs": [],
   "source": [
    "#Importando as bibliotecas\n",
    "import pandas as pd\n",
    "import matplotlib.pyplot as plt\n",
    "import numpy as np\n",
    "import pandera as pa\n",
    "import seaborn as sns\n"
   ]
  },
  {
   "cell_type": "code",
   "execution_count": 583,
   "id": "5e40cd3a",
   "metadata": {},
   "outputs": [],
   "source": [
    "#Lendo o arquivo e criando o dataframe\n",
    "df = pd.read_csv('Gapminder.csv', error_bad_lines=False, sep=\";\")"
   ]
  },
  {
   "cell_type": "code",
   "execution_count": 584,
   "id": "a4f31594",
   "metadata": {},
   "outputs": [
    {
     "data": {
      "text/html": [
       "<div>\n",
       "<style scoped>\n",
       "    .dataframe tbody tr th:only-of-type {\n",
       "        vertical-align: middle;\n",
       "    }\n",
       "\n",
       "    .dataframe tbody tr th {\n",
       "        vertical-align: top;\n",
       "    }\n",
       "\n",
       "    .dataframe thead th {\n",
       "        text-align: right;\n",
       "    }\n",
       "</style>\n",
       "<table border=\"1\" class=\"dataframe\">\n",
       "  <thead>\n",
       "    <tr style=\"text-align: right;\">\n",
       "      <th></th>\n",
       "      <th>country</th>\n",
       "      <th>continent</th>\n",
       "      <th>year</th>\n",
       "      <th>lifeExp</th>\n",
       "      <th>pop</th>\n",
       "      <th>gdpPercap</th>\n",
       "    </tr>\n",
       "  </thead>\n",
       "  <tbody>\n",
       "    <tr>\n",
       "      <th>0</th>\n",
       "      <td>Afghanistan</td>\n",
       "      <td>Asia</td>\n",
       "      <td>1952</td>\n",
       "      <td>28.801</td>\n",
       "      <td>8425333</td>\n",
       "      <td>779.445314</td>\n",
       "    </tr>\n",
       "    <tr>\n",
       "      <th>1</th>\n",
       "      <td>Afghanistan</td>\n",
       "      <td>Asia</td>\n",
       "      <td>1957</td>\n",
       "      <td>30.332</td>\n",
       "      <td>9240934</td>\n",
       "      <td>820.853030</td>\n",
       "    </tr>\n",
       "    <tr>\n",
       "      <th>2</th>\n",
       "      <td>Afghanistan</td>\n",
       "      <td>Asia</td>\n",
       "      <td>1962</td>\n",
       "      <td>31.997</td>\n",
       "      <td>10267083</td>\n",
       "      <td>853.100710</td>\n",
       "    </tr>\n",
       "    <tr>\n",
       "      <th>3</th>\n",
       "      <td>Afghanistan</td>\n",
       "      <td>Asia</td>\n",
       "      <td>1967</td>\n",
       "      <td>34.020</td>\n",
       "      <td>11537966</td>\n",
       "      <td>836.197138</td>\n",
       "    </tr>\n",
       "    <tr>\n",
       "      <th>4</th>\n",
       "      <td>Afghanistan</td>\n",
       "      <td>Asia</td>\n",
       "      <td>1972</td>\n",
       "      <td>36.088</td>\n",
       "      <td>13079460</td>\n",
       "      <td>739.981106</td>\n",
       "    </tr>\n",
       "    <tr>\n",
       "      <th>5</th>\n",
       "      <td>Afghanistan</td>\n",
       "      <td>Asia</td>\n",
       "      <td>1977</td>\n",
       "      <td>38.438</td>\n",
       "      <td>14880372</td>\n",
       "      <td>786.113360</td>\n",
       "    </tr>\n",
       "    <tr>\n",
       "      <th>6</th>\n",
       "      <td>Afghanistan</td>\n",
       "      <td>Asia</td>\n",
       "      <td>1982</td>\n",
       "      <td>39.854</td>\n",
       "      <td>12881816</td>\n",
       "      <td>978.011439</td>\n",
       "    </tr>\n",
       "    <tr>\n",
       "      <th>7</th>\n",
       "      <td>Afghanistan</td>\n",
       "      <td>Asia</td>\n",
       "      <td>1987</td>\n",
       "      <td>40.822</td>\n",
       "      <td>13867957</td>\n",
       "      <td>852.395945</td>\n",
       "    </tr>\n",
       "    <tr>\n",
       "      <th>8</th>\n",
       "      <td>Afghanistan</td>\n",
       "      <td>Asia</td>\n",
       "      <td>1992</td>\n",
       "      <td>41.674</td>\n",
       "      <td>16317921</td>\n",
       "      <td>649.341395</td>\n",
       "    </tr>\n",
       "    <tr>\n",
       "      <th>9</th>\n",
       "      <td>Afghanistan</td>\n",
       "      <td>Asia</td>\n",
       "      <td>1997</td>\n",
       "      <td>41.763</td>\n",
       "      <td>22227415</td>\n",
       "      <td>635.341351</td>\n",
       "    </tr>\n",
       "  </tbody>\n",
       "</table>\n",
       "</div>"
      ],
      "text/plain": [
       "       country continent  year  lifeExp       pop   gdpPercap\n",
       "0  Afghanistan      Asia  1952   28.801   8425333  779.445314\n",
       "1  Afghanistan      Asia  1957   30.332   9240934  820.853030\n",
       "2  Afghanistan      Asia  1962   31.997  10267083  853.100710\n",
       "3  Afghanistan      Asia  1967   34.020  11537966  836.197138\n",
       "4  Afghanistan      Asia  1972   36.088  13079460  739.981106\n",
       "5  Afghanistan      Asia  1977   38.438  14880372  786.113360\n",
       "6  Afghanistan      Asia  1982   39.854  12881816  978.011439\n",
       "7  Afghanistan      Asia  1987   40.822  13867957  852.395945\n",
       "8  Afghanistan      Asia  1992   41.674  16317921  649.341395\n",
       "9  Afghanistan      Asia  1997   41.763  22227415  635.341351"
      ]
     },
     "execution_count": 584,
     "metadata": {},
     "output_type": "execute_result"
    }
   ],
   "source": [
    "#Exibindo as 10 primeiras linhas\n",
    "df.head(10)\n"
   ]
  },
  {
   "cell_type": "code",
   "execution_count": 585,
   "id": "710b95e9",
   "metadata": {},
   "outputs": [],
   "source": [
    "#Renomeando as colunas para melhor entendimento do dataframe\n",
    "df.columns = ['Pais', 'Continente','Ano', 'Expectativa de Vida', 'Populacao Total', 'PIB', ]"
   ]
  },
  {
   "cell_type": "code",
   "execution_count": 586,
   "id": "2c8941cb",
   "metadata": {},
   "outputs": [
    {
     "data": {
      "text/html": [
       "<div>\n",
       "<style scoped>\n",
       "    .dataframe tbody tr th:only-of-type {\n",
       "        vertical-align: middle;\n",
       "    }\n",
       "\n",
       "    .dataframe tbody tr th {\n",
       "        vertical-align: top;\n",
       "    }\n",
       "\n",
       "    .dataframe thead th {\n",
       "        text-align: right;\n",
       "    }\n",
       "</style>\n",
       "<table border=\"1\" class=\"dataframe\">\n",
       "  <thead>\n",
       "    <tr style=\"text-align: right;\">\n",
       "      <th></th>\n",
       "      <th>Pais</th>\n",
       "      <th>Continente</th>\n",
       "      <th>Ano</th>\n",
       "      <th>Expectativa de Vida</th>\n",
       "      <th>Populacao Total</th>\n",
       "      <th>PIB</th>\n",
       "    </tr>\n",
       "  </thead>\n",
       "  <tbody>\n",
       "    <tr>\n",
       "      <th>0</th>\n",
       "      <td>Afghanistan</td>\n",
       "      <td>Asia</td>\n",
       "      <td>1952</td>\n",
       "      <td>28.801</td>\n",
       "      <td>8425333</td>\n",
       "      <td>779.445314</td>\n",
       "    </tr>\n",
       "    <tr>\n",
       "      <th>1</th>\n",
       "      <td>Afghanistan</td>\n",
       "      <td>Asia</td>\n",
       "      <td>1957</td>\n",
       "      <td>30.332</td>\n",
       "      <td>9240934</td>\n",
       "      <td>820.853030</td>\n",
       "    </tr>\n",
       "    <tr>\n",
       "      <th>2</th>\n",
       "      <td>Afghanistan</td>\n",
       "      <td>Asia</td>\n",
       "      <td>1962</td>\n",
       "      <td>31.997</td>\n",
       "      <td>10267083</td>\n",
       "      <td>853.100710</td>\n",
       "    </tr>\n",
       "    <tr>\n",
       "      <th>3</th>\n",
       "      <td>Afghanistan</td>\n",
       "      <td>Asia</td>\n",
       "      <td>1967</td>\n",
       "      <td>34.020</td>\n",
       "      <td>11537966</td>\n",
       "      <td>836.197138</td>\n",
       "    </tr>\n",
       "    <tr>\n",
       "      <th>4</th>\n",
       "      <td>Afghanistan</td>\n",
       "      <td>Asia</td>\n",
       "      <td>1972</td>\n",
       "      <td>36.088</td>\n",
       "      <td>13079460</td>\n",
       "      <td>739.981106</td>\n",
       "    </tr>\n",
       "  </tbody>\n",
       "</table>\n",
       "</div>"
      ],
      "text/plain": [
       "          Pais Continente   Ano  Expectativa de Vida  Populacao Total  \\\n",
       "0  Afghanistan       Asia  1952               28.801          8425333   \n",
       "1  Afghanistan       Asia  1957               30.332          9240934   \n",
       "2  Afghanistan       Asia  1962               31.997         10267083   \n",
       "3  Afghanistan       Asia  1967               34.020         11537966   \n",
       "4  Afghanistan       Asia  1972               36.088         13079460   \n",
       "\n",
       "          PIB  \n",
       "0  779.445314  \n",
       "1  820.853030  \n",
       "2  853.100710  \n",
       "3  836.197138  \n",
       "4  739.981106  "
      ]
     },
     "execution_count": 586,
     "metadata": {},
     "output_type": "execute_result"
    }
   ],
   "source": [
    "#Exibindo as 5 primeiras linhas \n",
    "df.head(5)"
   ]
  },
  {
   "cell_type": "code",
   "execution_count": 590,
   "id": "4009a37f",
   "metadata": {},
   "outputs": [
    {
     "data": {
      "text/html": [
       "<div>\n",
       "<style scoped>\n",
       "    .dataframe tbody tr th:only-of-type {\n",
       "        vertical-align: middle;\n",
       "    }\n",
       "\n",
       "    .dataframe tbody tr th {\n",
       "        vertical-align: top;\n",
       "    }\n",
       "\n",
       "    .dataframe thead th {\n",
       "        text-align: right;\n",
       "    }\n",
       "</style>\n",
       "<table border=\"1\" class=\"dataframe\">\n",
       "  <thead>\n",
       "    <tr style=\"text-align: right;\">\n",
       "      <th></th>\n",
       "      <th>Pais</th>\n",
       "      <th>Continente</th>\n",
       "      <th>Ano</th>\n",
       "      <th>Expectativa de Vida</th>\n",
       "      <th>Populacao Total</th>\n",
       "      <th>PIB</th>\n",
       "    </tr>\n",
       "  </thead>\n",
       "  <tbody>\n",
       "    <tr>\n",
       "      <th>3307</th>\n",
       "      <td>Zimbabwe</td>\n",
       "      <td>Africa</td>\n",
       "      <td>1987</td>\n",
       "      <td>62.351</td>\n",
       "      <td>9216418</td>\n",
       "      <td>706.157306</td>\n",
       "    </tr>\n",
       "    <tr>\n",
       "      <th>3308</th>\n",
       "      <td>Zimbabwe</td>\n",
       "      <td>Africa</td>\n",
       "      <td>1992</td>\n",
       "      <td>60.377</td>\n",
       "      <td>10704340</td>\n",
       "      <td>693.420786</td>\n",
       "    </tr>\n",
       "    <tr>\n",
       "      <th>3309</th>\n",
       "      <td>Zimbabwe</td>\n",
       "      <td>Africa</td>\n",
       "      <td>1997</td>\n",
       "      <td>46.809</td>\n",
       "      <td>11404948</td>\n",
       "      <td>792.449960</td>\n",
       "    </tr>\n",
       "    <tr>\n",
       "      <th>3310</th>\n",
       "      <td>Zimbabwe</td>\n",
       "      <td>Africa</td>\n",
       "      <td>2002</td>\n",
       "      <td>39.989</td>\n",
       "      <td>11926563</td>\n",
       "      <td>672.038623</td>\n",
       "    </tr>\n",
       "    <tr>\n",
       "      <th>3311</th>\n",
       "      <td>Zimbabwe</td>\n",
       "      <td>Africa</td>\n",
       "      <td>2007</td>\n",
       "      <td>43.487</td>\n",
       "      <td>12311143</td>\n",
       "      <td>469.709298</td>\n",
       "    </tr>\n",
       "  </tbody>\n",
       "</table>\n",
       "</div>"
      ],
      "text/plain": [
       "          Pais Continente   Ano  Expectativa de Vida  Populacao Total  \\\n",
       "3307  Zimbabwe     Africa  1987               62.351          9216418   \n",
       "3308  Zimbabwe     Africa  1992               60.377         10704340   \n",
       "3309  Zimbabwe     Africa  1997               46.809         11404948   \n",
       "3310  Zimbabwe     Africa  2002               39.989         11926563   \n",
       "3311  Zimbabwe     Africa  2007               43.487         12311143   \n",
       "\n",
       "             PIB  \n",
       "3307  706.157306  \n",
       "3308  693.420786  \n",
       "3309  792.449960  \n",
       "3310  672.038623  \n",
       "3311  469.709298  "
      ]
     },
     "execution_count": 590,
     "metadata": {},
     "output_type": "execute_result"
    }
   ],
   "source": [
    "#Exibindo as 5 últimas linhas \n",
    "df.tail(5)"
   ]
  },
  {
   "cell_type": "code",
   "execution_count": 591,
   "id": "a0285209",
   "metadata": {},
   "outputs": [
    {
     "name": "stdout",
     "output_type": "stream",
     "text": [
      "Linhas: 3312 Colunas: 6\n"
     ]
    }
   ],
   "source": [
    "#Exibindo a quantidade de linhas e colunas \n",
    "row, column = df.shape\n",
    "print(f'Linhas: {row} Colunas: {column}')"
   ]
  },
  {
   "cell_type": "code",
   "execution_count": 592,
   "id": "e4db787f",
   "metadata": {},
   "outputs": [
    {
     "name": "stdout",
     "output_type": "stream",
     "text": [
      "<class 'pandas.core.frame.DataFrame'>\n",
      "RangeIndex: 3312 entries, 0 to 3311\n",
      "Data columns (total 6 columns):\n",
      " #   Column               Non-Null Count  Dtype  \n",
      "---  ------               --------------  -----  \n",
      " 0   Pais                 3312 non-null   object \n",
      " 1   Continente           3011 non-null   object \n",
      " 2   Ano                  3312 non-null   int64  \n",
      " 3   Expectativa de Vida  3312 non-null   float64\n",
      " 4   Populacao Total      3312 non-null   int64  \n",
      " 5   PIB                  3312 non-null   float64\n",
      "dtypes: float64(2), int64(2), object(2)\n",
      "memory usage: 155.4+ KB\n"
     ]
    }
   ],
   "source": [
    "#Exibindo as principais informações sobre o dataframe e suas colunas\n",
    "df.info()"
   ]
  },
  {
   "cell_type": "markdown",
   "id": "d69ec6d5",
   "metadata": {},
   "source": [
    "### Validando os Dados"
   ]
  },
  {
   "cell_type": "code",
   "execution_count": 598,
   "id": "a4486b23",
   "metadata": {},
   "outputs": [],
   "source": [
    "#Verificando se cada dado de cada coluna corresponde ao tipo de dado informado\n",
    "schema = pa.DataFrameSchema(\n",
    "    columns = {\n",
    "        \"Pais\": pa.Column(pa.String),\n",
    "        \"Continente\": pa.Column(pa.String, nullable=True),\n",
    "        \"Ano\": pa.Column(pa.Int),\n",
    "        \"Expectativa de Vida\": pa.Column(pa.Float),\n",
    "        \"Populacao Total\": pa.Column(pa.Int),   \n",
    "        \"PIB\": pa.Column(pa.Float)\n",
    "    \n",
    "    }\n",
    ")"
   ]
  },
  {
   "cell_type": "code",
   "execution_count": 594,
   "id": "33a022e9",
   "metadata": {},
   "outputs": [
    {
     "data": {
      "text/html": [
       "<div>\n",
       "<style scoped>\n",
       "    .dataframe tbody tr th:only-of-type {\n",
       "        vertical-align: middle;\n",
       "    }\n",
       "\n",
       "    .dataframe tbody tr th {\n",
       "        vertical-align: top;\n",
       "    }\n",
       "\n",
       "    .dataframe thead th {\n",
       "        text-align: right;\n",
       "    }\n",
       "</style>\n",
       "<table border=\"1\" class=\"dataframe\">\n",
       "  <thead>\n",
       "    <tr style=\"text-align: right;\">\n",
       "      <th></th>\n",
       "      <th>Pais</th>\n",
       "      <th>Continente</th>\n",
       "      <th>Ano</th>\n",
       "      <th>Expectativa de Vida</th>\n",
       "      <th>Populacao Total</th>\n",
       "      <th>PIB</th>\n",
       "    </tr>\n",
       "  </thead>\n",
       "  <tbody>\n",
       "    <tr>\n",
       "      <th>0</th>\n",
       "      <td>Afghanistan</td>\n",
       "      <td>Asia</td>\n",
       "      <td>1952</td>\n",
       "      <td>28.801</td>\n",
       "      <td>8425333</td>\n",
       "      <td>779.445314</td>\n",
       "    </tr>\n",
       "    <tr>\n",
       "      <th>1</th>\n",
       "      <td>Afghanistan</td>\n",
       "      <td>Asia</td>\n",
       "      <td>1957</td>\n",
       "      <td>30.332</td>\n",
       "      <td>9240934</td>\n",
       "      <td>820.853030</td>\n",
       "    </tr>\n",
       "    <tr>\n",
       "      <th>2</th>\n",
       "      <td>Afghanistan</td>\n",
       "      <td>Asia</td>\n",
       "      <td>1962</td>\n",
       "      <td>31.997</td>\n",
       "      <td>10267083</td>\n",
       "      <td>853.100710</td>\n",
       "    </tr>\n",
       "    <tr>\n",
       "      <th>3</th>\n",
       "      <td>Afghanistan</td>\n",
       "      <td>Asia</td>\n",
       "      <td>1967</td>\n",
       "      <td>34.020</td>\n",
       "      <td>11537966</td>\n",
       "      <td>836.197138</td>\n",
       "    </tr>\n",
       "    <tr>\n",
       "      <th>4</th>\n",
       "      <td>Afghanistan</td>\n",
       "      <td>Asia</td>\n",
       "      <td>1972</td>\n",
       "      <td>36.088</td>\n",
       "      <td>13079460</td>\n",
       "      <td>739.981106</td>\n",
       "    </tr>\n",
       "    <tr>\n",
       "      <th>...</th>\n",
       "      <td>...</td>\n",
       "      <td>...</td>\n",
       "      <td>...</td>\n",
       "      <td>...</td>\n",
       "      <td>...</td>\n",
       "      <td>...</td>\n",
       "    </tr>\n",
       "    <tr>\n",
       "      <th>3307</th>\n",
       "      <td>Zimbabwe</td>\n",
       "      <td>Africa</td>\n",
       "      <td>1987</td>\n",
       "      <td>62.351</td>\n",
       "      <td>9216418</td>\n",
       "      <td>706.157306</td>\n",
       "    </tr>\n",
       "    <tr>\n",
       "      <th>3308</th>\n",
       "      <td>Zimbabwe</td>\n",
       "      <td>Africa</td>\n",
       "      <td>1992</td>\n",
       "      <td>60.377</td>\n",
       "      <td>10704340</td>\n",
       "      <td>693.420786</td>\n",
       "    </tr>\n",
       "    <tr>\n",
       "      <th>3309</th>\n",
       "      <td>Zimbabwe</td>\n",
       "      <td>Africa</td>\n",
       "      <td>1997</td>\n",
       "      <td>46.809</td>\n",
       "      <td>11404948</td>\n",
       "      <td>792.449960</td>\n",
       "    </tr>\n",
       "    <tr>\n",
       "      <th>3310</th>\n",
       "      <td>Zimbabwe</td>\n",
       "      <td>Africa</td>\n",
       "      <td>2002</td>\n",
       "      <td>39.989</td>\n",
       "      <td>11926563</td>\n",
       "      <td>672.038623</td>\n",
       "    </tr>\n",
       "    <tr>\n",
       "      <th>3311</th>\n",
       "      <td>Zimbabwe</td>\n",
       "      <td>Africa</td>\n",
       "      <td>2007</td>\n",
       "      <td>43.487</td>\n",
       "      <td>12311143</td>\n",
       "      <td>469.709298</td>\n",
       "    </tr>\n",
       "  </tbody>\n",
       "</table>\n",
       "<p>3312 rows × 6 columns</p>\n",
       "</div>"
      ],
      "text/plain": [
       "             Pais Continente   Ano  Expectativa de Vida  Populacao Total  \\\n",
       "0     Afghanistan       Asia  1952               28.801          8425333   \n",
       "1     Afghanistan       Asia  1957               30.332          9240934   \n",
       "2     Afghanistan       Asia  1962               31.997         10267083   \n",
       "3     Afghanistan       Asia  1967               34.020         11537966   \n",
       "4     Afghanistan       Asia  1972               36.088         13079460   \n",
       "...           ...        ...   ...                  ...              ...   \n",
       "3307     Zimbabwe     Africa  1987               62.351          9216418   \n",
       "3308     Zimbabwe     Africa  1992               60.377         10704340   \n",
       "3309     Zimbabwe     Africa  1997               46.809         11404948   \n",
       "3310     Zimbabwe     Africa  2002               39.989         11926563   \n",
       "3311     Zimbabwe     Africa  2007               43.487         12311143   \n",
       "\n",
       "             PIB  \n",
       "0     779.445314  \n",
       "1     820.853030  \n",
       "2     853.100710  \n",
       "3     836.197138  \n",
       "4     739.981106  \n",
       "...          ...  \n",
       "3307  706.157306  \n",
       "3308  693.420786  \n",
       "3309  792.449960  \n",
       "3310  672.038623  \n",
       "3311  469.709298  \n",
       "\n",
       "[3312 rows x 6 columns]"
      ]
     },
     "execution_count": 594,
     "metadata": {},
     "output_type": "execute_result"
    }
   ],
   "source": [
    "schema.validate(df)"
   ]
  },
  {
   "cell_type": "markdown",
   "id": "cb074e79",
   "metadata": {},
   "source": [
    "### Tratando  Dados Ausentes"
   ]
  },
  {
   "cell_type": "code",
   "execution_count": 597,
   "id": "7751469a",
   "metadata": {},
   "outputs": [
    {
     "data": {
      "text/plain": [
       "Pais                     0\n",
       "Continente             301\n",
       "Ano                      0\n",
       "Expectativa de Vida      0\n",
       "Populacao Total          0\n",
       "PIB                      0\n",
       "dtype: int64"
      ]
     },
     "execution_count": 597,
     "metadata": {},
     "output_type": "execute_result"
    }
   ],
   "source": [
    "#Verificando quais colunas possuem dados ausentes\n",
    "df.isna().sum()"
   ]
  },
  {
   "cell_type": "code",
   "execution_count": 599,
   "id": "1f872282",
   "metadata": {},
   "outputs": [
    {
     "data": {
      "text/html": [
       "<div>\n",
       "<style scoped>\n",
       "    .dataframe tbody tr th:only-of-type {\n",
       "        vertical-align: middle;\n",
       "    }\n",
       "\n",
       "    .dataframe tbody tr th {\n",
       "        vertical-align: top;\n",
       "    }\n",
       "\n",
       "    .dataframe thead th {\n",
       "        text-align: right;\n",
       "    }\n",
       "</style>\n",
       "<table border=\"1\" class=\"dataframe\">\n",
       "  <thead>\n",
       "    <tr style=\"text-align: right;\">\n",
       "      <th></th>\n",
       "      <th>Pais</th>\n",
       "      <th>Continente</th>\n",
       "      <th>Ano</th>\n",
       "      <th>Expectativa de Vida</th>\n",
       "      <th>Populacao Total</th>\n",
       "      <th>PIB</th>\n",
       "    </tr>\n",
       "  </thead>\n",
       "  <tbody>\n",
       "    <tr>\n",
       "      <th>196</th>\n",
       "      <td>Bahamas</td>\n",
       "      <td>NaN</td>\n",
       "      <td>1997</td>\n",
       "      <td>68.472</td>\n",
       "      <td>281577</td>\n",
       "      <td>20990.832470</td>\n",
       "    </tr>\n",
       "    <tr>\n",
       "      <th>1253</th>\n",
       "      <td>Haiti</td>\n",
       "      <td>NaN</td>\n",
       "      <td>1972</td>\n",
       "      <td>48.042</td>\n",
       "      <td>4698301</td>\n",
       "      <td>1654.456946</td>\n",
       "    </tr>\n",
       "    <tr>\n",
       "      <th>1895</th>\n",
       "      <td>Martinique</td>\n",
       "      <td>NaN</td>\n",
       "      <td>2002</td>\n",
       "      <td>78.783</td>\n",
       "      <td>422277</td>\n",
       "      <td>13561.809910</td>\n",
       "    </tr>\n",
       "    <tr>\n",
       "      <th>515</th>\n",
       "      <td>Canada</td>\n",
       "      <td>NaN</td>\n",
       "      <td>1965</td>\n",
       "      <td>71.790</td>\n",
       "      <td>20071104</td>\n",
       "      <td>15198.110090</td>\n",
       "    </tr>\n",
       "    <tr>\n",
       "      <th>92</th>\n",
       "      <td>Australia</td>\n",
       "      <td>NaN</td>\n",
       "      <td>1970</td>\n",
       "      <td>70.810</td>\n",
       "      <td>12660160</td>\n",
       "      <td>16273.142140</td>\n",
       "    </tr>\n",
       "    <tr>\n",
       "      <th>107</th>\n",
       "      <td>Australia</td>\n",
       "      <td>NaN</td>\n",
       "      <td>1985</td>\n",
       "      <td>75.460</td>\n",
       "      <td>15788300</td>\n",
       "      <td>21040.494600</td>\n",
       "    </tr>\n",
       "    <tr>\n",
       "      <th>1103</th>\n",
       "      <td>French Polynesia</td>\n",
       "      <td>NaN</td>\n",
       "      <td>1977</td>\n",
       "      <td>62.427</td>\n",
       "      <td>138156</td>\n",
       "      <td>16682.106820</td>\n",
       "    </tr>\n",
       "    <tr>\n",
       "      <th>120</th>\n",
       "      <td>Australia</td>\n",
       "      <td>NaN</td>\n",
       "      <td>1998</td>\n",
       "      <td>79.330</td>\n",
       "      <td>18768789</td>\n",
       "      <td>28169.153410</td>\n",
       "    </tr>\n",
       "    <tr>\n",
       "      <th>77</th>\n",
       "      <td>Australia</td>\n",
       "      <td>NaN</td>\n",
       "      <td>1955</td>\n",
       "      <td>70.170</td>\n",
       "      <td>9277087</td>\n",
       "      <td>10864.617740</td>\n",
       "    </tr>\n",
       "    <tr>\n",
       "      <th>2541</th>\n",
       "      <td>Sao Tome and Principe</td>\n",
       "      <td>NaN</td>\n",
       "      <td>2007</td>\n",
       "      <td>65.528</td>\n",
       "      <td>199579</td>\n",
       "      <td>1598.435089</td>\n",
       "    </tr>\n",
       "  </tbody>\n",
       "</table>\n",
       "</div>"
      ],
      "text/plain": [
       "                       Pais Continente   Ano  Expectativa de Vida  \\\n",
       "196                 Bahamas        NaN  1997               68.472   \n",
       "1253                  Haiti        NaN  1972               48.042   \n",
       "1895             Martinique        NaN  2002               78.783   \n",
       "515                  Canada        NaN  1965               71.790   \n",
       "92                Australia        NaN  1970               70.810   \n",
       "107               Australia        NaN  1985               75.460   \n",
       "1103       French Polynesia        NaN  1977               62.427   \n",
       "120               Australia        NaN  1998               79.330   \n",
       "77                Australia        NaN  1955               70.170   \n",
       "2541  Sao Tome and Principe        NaN  2007               65.528   \n",
       "\n",
       "      Populacao Total           PIB  \n",
       "196            281577  20990.832470  \n",
       "1253          4698301   1654.456946  \n",
       "1895           422277  13561.809910  \n",
       "515          20071104  15198.110090  \n",
       "92           12660160  16273.142140  \n",
       "107          15788300  21040.494600  \n",
       "1103           138156  16682.106820  \n",
       "120          18768789  28169.153410  \n",
       "77            9277087  10864.617740  \n",
       "2541           199579   1598.435089  "
      ]
     },
     "execution_count": 599,
     "metadata": {},
     "output_type": "execute_result"
    }
   ],
   "source": [
    "#Visualizando 10 amostras aleatórias dos dados nulos na coluna 'Continente'\n",
    "df[df['Continente'].isnull()].sample(10)"
   ]
  },
  {
   "cell_type": "code",
   "execution_count": 600,
   "id": "f3aa0fcd",
   "metadata": {},
   "outputs": [],
   "source": [
    "#Preenchendo os dados nulos da coluna continente como dados 'Não Informado'\n",
    "df.fillna(inplace=True, value={'Continente':'Nao Informado'} )"
   ]
  },
  {
   "cell_type": "code",
   "execution_count": 601,
   "id": "ca737e5e",
   "metadata": {},
   "outputs": [
    {
     "data": {
      "text/plain": [
       "array(['Asia', 'Europe', 'Africa', 'Americas', 'Nao Informado', 'FSU',\n",
       "       'Oceania'], dtype=object)"
      ]
     },
     "execution_count": 601,
     "metadata": {},
     "output_type": "execute_result"
    }
   ],
   "source": [
    "#Verificando os dados da coluna 'Continente', os missing values da coluna foram substituidos por 'Nao Informado'\n",
    "df[\"Continente\"].unique()\n"
   ]
  },
  {
   "cell_type": "code",
   "execution_count": 602,
   "id": "e5a7f7ab",
   "metadata": {},
   "outputs": [
    {
     "data": {
      "text/html": [
       "<div>\n",
       "<style scoped>\n",
       "    .dataframe tbody tr th:only-of-type {\n",
       "        vertical-align: middle;\n",
       "    }\n",
       "\n",
       "    .dataframe tbody tr th {\n",
       "        vertical-align: top;\n",
       "    }\n",
       "\n",
       "    .dataframe thead th {\n",
       "        text-align: right;\n",
       "    }\n",
       "</style>\n",
       "<table border=\"1\" class=\"dataframe\">\n",
       "  <thead>\n",
       "    <tr style=\"text-align: right;\">\n",
       "      <th></th>\n",
       "      <th>Pais</th>\n",
       "      <th>Continente</th>\n",
       "      <th>Ano</th>\n",
       "      <th>Expectativa de Vida</th>\n",
       "      <th>Populacao Total</th>\n",
       "      <th>PIB</th>\n",
       "    </tr>\n",
       "  </thead>\n",
       "  <tbody>\n",
       "    <tr>\n",
       "      <th>60</th>\n",
       "      <td>Armenia</td>\n",
       "      <td>Nao Informado</td>\n",
       "      <td>1992</td>\n",
       "      <td>68.663</td>\n",
       "      <td>3378331</td>\n",
       "      <td>1442.937796</td>\n",
       "    </tr>\n",
       "    <tr>\n",
       "      <th>61</th>\n",
       "      <td>Armenia</td>\n",
       "      <td>Nao Informado</td>\n",
       "      <td>1997</td>\n",
       "      <td>70.377</td>\n",
       "      <td>3059000</td>\n",
       "      <td>1791.347190</td>\n",
       "    </tr>\n",
       "    <tr>\n",
       "      <th>62</th>\n",
       "      <td>Armenia</td>\n",
       "      <td>Nao Informado</td>\n",
       "      <td>2002</td>\n",
       "      <td>71.403</td>\n",
       "      <td>3013818</td>\n",
       "      <td>2692.304039</td>\n",
       "    </tr>\n",
       "    <tr>\n",
       "      <th>63</th>\n",
       "      <td>Armenia</td>\n",
       "      <td>Nao Informado</td>\n",
       "      <td>2007</td>\n",
       "      <td>71.965</td>\n",
       "      <td>2971650</td>\n",
       "      <td>4942.543911</td>\n",
       "    </tr>\n",
       "    <tr>\n",
       "      <th>64</th>\n",
       "      <td>Aruba</td>\n",
       "      <td>Nao Informado</td>\n",
       "      <td>1972</td>\n",
       "      <td>70.941</td>\n",
       "      <td>59461</td>\n",
       "      <td>4939.758007</td>\n",
       "    </tr>\n",
       "    <tr>\n",
       "      <th>65</th>\n",
       "      <td>Aruba</td>\n",
       "      <td>Nao Informado</td>\n",
       "      <td>1977</td>\n",
       "      <td>71.830</td>\n",
       "      <td>59412</td>\n",
       "      <td>7390.359942</td>\n",
       "    </tr>\n",
       "    <tr>\n",
       "      <th>66</th>\n",
       "      <td>Aruba</td>\n",
       "      <td>Nao Informado</td>\n",
       "      <td>1982</td>\n",
       "      <td>74.116</td>\n",
       "      <td>61569</td>\n",
       "      <td>10874.914950</td>\n",
       "    </tr>\n",
       "    <tr>\n",
       "      <th>67</th>\n",
       "      <td>Aruba</td>\n",
       "      <td>Nao Informado</td>\n",
       "      <td>1987</td>\n",
       "      <td>74.494</td>\n",
       "      <td>65415</td>\n",
       "      <td>17674.338900</td>\n",
       "    </tr>\n",
       "    <tr>\n",
       "      <th>68</th>\n",
       "      <td>Aruba</td>\n",
       "      <td>Nao Informado</td>\n",
       "      <td>1992</td>\n",
       "      <td>74.108</td>\n",
       "      <td>67174</td>\n",
       "      <td>25120.549610</td>\n",
       "    </tr>\n",
       "    <tr>\n",
       "      <th>69</th>\n",
       "      <td>Aruba</td>\n",
       "      <td>Nao Informado</td>\n",
       "      <td>1997</td>\n",
       "      <td>73.011</td>\n",
       "      <td>68341</td>\n",
       "      <td>26483.668620</td>\n",
       "    </tr>\n",
       "  </tbody>\n",
       "</table>\n",
       "</div>"
      ],
      "text/plain": [
       "       Pais     Continente   Ano  Expectativa de Vida  Populacao Total  \\\n",
       "60  Armenia  Nao Informado  1992               68.663          3378331   \n",
       "61  Armenia  Nao Informado  1997               70.377          3059000   \n",
       "62  Armenia  Nao Informado  2002               71.403          3013818   \n",
       "63  Armenia  Nao Informado  2007               71.965          2971650   \n",
       "64    Aruba  Nao Informado  1972               70.941            59461   \n",
       "65    Aruba  Nao Informado  1977               71.830            59412   \n",
       "66    Aruba  Nao Informado  1982               74.116            61569   \n",
       "67    Aruba  Nao Informado  1987               74.494            65415   \n",
       "68    Aruba  Nao Informado  1992               74.108            67174   \n",
       "69    Aruba  Nao Informado  1997               73.011            68341   \n",
       "\n",
       "             PIB  \n",
       "60   1442.937796  \n",
       "61   1791.347190  \n",
       "62   2692.304039  \n",
       "63   4942.543911  \n",
       "64   4939.758007  \n",
       "65   7390.359942  \n",
       "66  10874.914950  \n",
       "67  17674.338900  \n",
       "68  25120.549610  \n",
       "69  26483.668620  "
      ]
     },
     "execution_count": 602,
     "metadata": {},
     "output_type": "execute_result"
    }
   ],
   "source": [
    "#Exibindo 10 linhas onde possuem o continente como 'Não Informado'\n",
    "Nao_informado = df.loc[df[\"Continente\"] == \"Nao Informado\"]\n",
    "Nao_informado.head(10)"
   ]
  },
  {
   "cell_type": "markdown",
   "id": "ff472368",
   "metadata": {},
   "source": [
    "### Transformação dos Dados"
   ]
  },
  {
   "cell_type": "code",
   "execution_count": 603,
   "id": "6efc3be8",
   "metadata": {},
   "outputs": [
    {
     "name": "stdout",
     "output_type": "stream",
     "text": [
      "O dataframe possui 0 dados duplicados.\n"
     ]
    }
   ],
   "source": [
    "#Verificando se há algum dado duplicado no dataframe\n",
    "duplicados = df.duplicated().sum()\n",
    "print(f'O dataframe possui {duplicados} dados duplicados.')"
   ]
  },
  {
   "cell_type": "markdown",
   "id": "4160655b",
   "metadata": {},
   "source": [
    "### Análise Exploratória "
   ]
  },
  {
   "cell_type": "code",
   "execution_count": 604,
   "id": "861a42a2",
   "metadata": {},
   "outputs": [
    {
     "data": {
      "text/html": [
       "<div>\n",
       "<style scoped>\n",
       "    .dataframe tbody tr th:only-of-type {\n",
       "        vertical-align: middle;\n",
       "    }\n",
       "\n",
       "    .dataframe tbody tr th {\n",
       "        vertical-align: top;\n",
       "    }\n",
       "\n",
       "    .dataframe thead th {\n",
       "        text-align: right;\n",
       "    }\n",
       "</style>\n",
       "<table border=\"1\" class=\"dataframe\">\n",
       "  <thead>\n",
       "    <tr style=\"text-align: right;\">\n",
       "      <th></th>\n",
       "      <th>Ano</th>\n",
       "      <th>Expectativa de Vida</th>\n",
       "      <th>Populacao Total</th>\n",
       "      <th>PIB</th>\n",
       "    </tr>\n",
       "  </thead>\n",
       "  <tbody>\n",
       "    <tr>\n",
       "      <th>count</th>\n",
       "      <td>3312.000000</td>\n",
       "      <td>3312.000000</td>\n",
       "      <td>3.312000e+03</td>\n",
       "      <td>3312.000000</td>\n",
       "    </tr>\n",
       "    <tr>\n",
       "      <th>mean</th>\n",
       "      <td>1980.301630</td>\n",
       "      <td>65.246871</td>\n",
       "      <td>3.161489e+07</td>\n",
       "      <td>11317.115805</td>\n",
       "    </tr>\n",
       "    <tr>\n",
       "      <th>std</th>\n",
       "      <td>16.927294</td>\n",
       "      <td>11.768412</td>\n",
       "      <td>1.041193e+08</td>\n",
       "      <td>11369.142739</td>\n",
       "    </tr>\n",
       "    <tr>\n",
       "      <th>min</th>\n",
       "      <td>1950.000000</td>\n",
       "      <td>23.599000</td>\n",
       "      <td>5.941200e+04</td>\n",
       "      <td>241.165876</td>\n",
       "    </tr>\n",
       "    <tr>\n",
       "      <th>25%</th>\n",
       "      <td>1967.000000</td>\n",
       "      <td>58.337500</td>\n",
       "      <td>2.678572e+06</td>\n",
       "      <td>2514.625266</td>\n",
       "    </tr>\n",
       "    <tr>\n",
       "      <th>50%</th>\n",
       "      <td>1982.000000</td>\n",
       "      <td>69.610000</td>\n",
       "      <td>7.557218e+06</td>\n",
       "      <td>7838.505123</td>\n",
       "    </tr>\n",
       "    <tr>\n",
       "      <th>75%</th>\n",
       "      <td>1996.000000</td>\n",
       "      <td>73.657750</td>\n",
       "      <td>1.958522e+07</td>\n",
       "      <td>17357.879170</td>\n",
       "    </tr>\n",
       "    <tr>\n",
       "      <th>max</th>\n",
       "      <td>2007.000000</td>\n",
       "      <td>82.670000</td>\n",
       "      <td>1.318683e+09</td>\n",
       "      <td>113523.132900</td>\n",
       "    </tr>\n",
       "  </tbody>\n",
       "</table>\n",
       "</div>"
      ],
      "text/plain": [
       "               Ano  Expectativa de Vida  Populacao Total            PIB\n",
       "count  3312.000000          3312.000000     3.312000e+03    3312.000000\n",
       "mean   1980.301630            65.246871     3.161489e+07   11317.115805\n",
       "std      16.927294            11.768412     1.041193e+08   11369.142739\n",
       "min    1950.000000            23.599000     5.941200e+04     241.165876\n",
       "25%    1967.000000            58.337500     2.678572e+06    2514.625266\n",
       "50%    1982.000000            69.610000     7.557218e+06    7838.505123\n",
       "75%    1996.000000            73.657750     1.958522e+07   17357.879170\n",
       "max    2007.000000            82.670000     1.318683e+09  113523.132900"
      ]
     },
     "execution_count": 604,
     "metadata": {},
     "output_type": "execute_result"
    }
   ],
   "source": [
    "#Exibindo as estatísticas descritivas, desvio padrão, média, mediana, quartis..\n",
    "df.describe()"
   ]
  },
  {
   "cell_type": "code",
   "execution_count": 646,
   "id": "2dcbb9de",
   "metadata": {},
   "outputs": [
    {
     "data": {
      "text/plain": [
       "Taiwan           58\n",
       "Finland          58\n",
       "Denmark          58\n",
       "Netherlands      58\n",
       "Japan            58\n",
       "                 ..\n",
       "Azerbaijan        4\n",
       "Tajikistan        4\n",
       "Martinique        1\n",
       "Guadeloupe        1\n",
       "French Guiana     1\n",
       "Name: Pais, Length: 187, dtype: int64"
      ]
     },
     "execution_count": 646,
     "metadata": {},
     "output_type": "execute_result"
    }
   ],
   "source": [
    "#Países que possuem maior quantidade de dados informados no dataset\n",
    "df['Pais'].value_counts()"
   ]
  },
  {
   "cell_type": "code",
   "execution_count": 606,
   "id": "7ef788d4",
   "metadata": {},
   "outputs": [
    {
     "data": {
      "text/plain": [
       "37482287.5451553"
      ]
     },
     "execution_count": 606,
     "metadata": {},
     "output_type": "execute_result"
    }
   ],
   "source": [
    "#Exibindo o PIB Total\n",
    "pib = df['PIB'].sum()\n",
    "pib"
   ]
  },
  {
   "cell_type": "code",
   "execution_count": 607,
   "id": "6b8cecca",
   "metadata": {},
   "outputs": [
    {
     "data": {
      "text/plain": [
       "104708518385"
      ]
     },
     "execution_count": 607,
     "metadata": {},
     "output_type": "execute_result"
    }
   ],
   "source": [
    "#Exibindo a Populacao Total\n",
    "pop_total = df['Populacao Total'].sum()\n",
    "pop_total"
   ]
  },
  {
   "cell_type": "code",
   "execution_count": 608,
   "id": "c315d894",
   "metadata": {},
   "outputs": [
    {
     "data": {
      "text/plain": [
       "Continente\n",
       "Africa           51\n",
       "Americas         25\n",
       "Asia             41\n",
       "Europe           35\n",
       "FSU               6\n",
       "Nao Informado    26\n",
       "Oceania           3\n",
       "Name: Pais, dtype: int64"
      ]
     },
     "execution_count": 608,
     "metadata": {},
     "output_type": "execute_result"
    }
   ],
   "source": [
    "#Exibindo a quantidade de Países de cada Continente\n",
    "df.groupby(\"Continente\")[\"Pais\"].nunique()\n"
   ]
  },
  {
   "cell_type": "code",
   "execution_count": 508,
   "id": "da432005",
   "metadata": {},
   "outputs": [
    {
     "data": {
      "text/plain": [
       "array(['Afghanistan', 'Albania', 'Algeria', 'Angola', 'Argentina',\n",
       "       'Armenia', 'Aruba', 'Australia', 'Austria', 'Azerbaijan',\n",
       "       'Bahamas', 'Bahrain', 'Bangladesh', 'Barbados', 'Belarus',\n",
       "       'Belgium', 'Belize', 'Benin', 'Bhutan', 'Bolivia',\n",
       "       'Bosnia and Herzegovina', 'Botswana', 'Brazil', 'Brunei',\n",
       "       'Bulgaria', 'Burkina Faso', 'Burundi', 'Cambodia', 'Cameroon',\n",
       "       'Canada', 'Cape Verde', 'Central African Republic', 'Chad',\n",
       "       'Chile', 'China', 'Colombia', 'Comoros', 'Congo, Dem. Rep.',\n",
       "       'Congo, Rep.', 'Costa Rica', \"Cote d'Ivoire\", 'Croatia', 'Cuba',\n",
       "       'Cyprus', 'Czech Republic', 'Denmark', 'Djibouti',\n",
       "       'Dominican Republic', 'Ecuador', 'Egypt', 'El Salvador',\n",
       "       'Equatorial Guinea', 'Eritrea', 'Estonia', 'Ethiopia', 'Fiji',\n",
       "       'Finland', 'France', 'French Guiana', 'French Polynesia', 'Gabon',\n",
       "       'Gambia', 'Georgia', 'Germany', 'Ghana', 'Greece', 'Grenada',\n",
       "       'Guadeloupe', 'Guatemala', 'Guinea', 'Guinea-Bissau', 'Guyana',\n",
       "       'Haiti', 'Honduras', 'Hong Kong, China', 'Hungary', 'Iceland',\n",
       "       'India', 'Indonesia', 'Iran', 'Iraq', 'Ireland', 'Israel', 'Italy',\n",
       "       'Jamaica', 'Japan', 'Jordan', 'Kazakhstan', 'Kenya',\n",
       "       'Korea, Dem. Rep.', 'Korea, Rep.', 'Kuwait', 'Latvia', 'Lebanon',\n",
       "       'Lesotho', 'Liberia', 'Libya', 'Lithuania', 'Luxembourg',\n",
       "       'Macao, China', 'Madagascar', 'Malawi', 'Malaysia', 'Maldives',\n",
       "       'Mali', 'Malta', 'Martinique', 'Mauritania', 'Mauritius', 'Mexico',\n",
       "       'Micronesia, Fed. Sts.', 'Moldova', 'Mongolia', 'Montenegro',\n",
       "       'Morocco', 'Mozambique', 'Myanmar', 'Namibia', 'Nepal',\n",
       "       'Netherlands', 'Netherlands Antilles', 'New Caledonia',\n",
       "       'New Zealand', 'Nicaragua', 'Niger', 'Nigeria', 'Norway', 'Oman',\n",
       "       'Pakistan', 'Panama', 'Papua New Guinea', 'Paraguay', 'Peru',\n",
       "       'Philippines', 'Poland', 'Portugal', 'Puerto Rico', 'Qatar',\n",
       "       'Reunion', 'Romania', 'Russia', 'Rwanda', 'Samoa',\n",
       "       'Sao Tome and Principe', 'Saudi Arabia', 'Senegal', 'Serbia',\n",
       "       'Sierra Leone', 'Singapore', 'Slovak Republic', 'Slovenia',\n",
       "       'Solomon Islands', 'Somalia', 'South Africa', 'Spain', 'Sri Lanka',\n",
       "       'Sudan', 'Suriname', 'Swaziland', 'Sweden', 'Switzerland', 'Syria',\n",
       "       'Taiwan', 'Tajikistan', 'Tanzania', 'Thailand', 'Timor-Leste',\n",
       "       'Togo', 'Tonga', 'Trinidad and Tobago', 'Tunisia', 'Turkey',\n",
       "       'Turkmenistan', 'Uganda', 'Ukraine', 'United Arab Emirates',\n",
       "       'United Kingdom', 'United States', 'Uruguay', 'Uzbekistan',\n",
       "       'Vanuatu', 'Venezuela', 'Vietnam', 'West Bank and Gaza',\n",
       "       'Yemen, Rep.', 'Zambia', 'Zimbabwe'], dtype=object)"
      ]
     },
     "execution_count": 508,
     "metadata": {},
     "output_type": "execute_result"
    }
   ],
   "source": [
    "#Lista com o nome de todos os países presentes no dataset\n",
    "df.Pais.unique()\n",
    "\n"
   ]
  },
  {
   "cell_type": "code",
   "execution_count": 509,
   "id": "7de94291",
   "metadata": {},
   "outputs": [
    {
     "data": {
      "text/plain": [
       "187"
      ]
     },
     "execution_count": 509,
     "metadata": {},
     "output_type": "execute_result"
    }
   ],
   "source": [
    "#Total de países no Dataset\n",
    "total_paises = df.Pais.nunique()\n",
    "total_paises"
   ]
  },
  {
   "cell_type": "code",
   "execution_count": 609,
   "id": "488a81be",
   "metadata": {},
   "outputs": [
    {
     "data": {
      "text/plain": [
       "1950"
      ]
     },
     "execution_count": 609,
     "metadata": {},
     "output_type": "execute_result"
    }
   ],
   "source": [
    "#Exibindo o ano mais antigo do Dataset\n",
    "ano_mais_antigo = df['Ano'].min()\n",
    "ano_mais_antigo"
   ]
  },
  {
   "cell_type": "code",
   "execution_count": 610,
   "id": "3c437fa5",
   "metadata": {},
   "outputs": [
    {
     "data": {
      "text/plain": [
       "2007"
      ]
     },
     "execution_count": 610,
     "metadata": {},
     "output_type": "execute_result"
    }
   ],
   "source": [
    "#Exibindo o ano mais recente do Dataset\n",
    "ano_mais_recente = df['Ano'].max()\n",
    "ano_mais_recente"
   ]
  },
  {
   "cell_type": "code",
   "execution_count": 611,
   "id": "df0b642a",
   "metadata": {},
   "outputs": [
    {
     "data": {
      "text/plain": [
       "Continente\n",
       "Africa           48.518682\n",
       "Americas         65.789711\n",
       "Asia             62.242752\n",
       "Europe           72.721644\n",
       "FSU              68.800279\n",
       "Nao Informado    69.216063\n",
       "Oceania          70.396622\n",
       "Name: Expectativa de Vida, dtype: float64"
      ]
     },
     "execution_count": 611,
     "metadata": {},
     "output_type": "execute_result"
    }
   ],
   "source": [
    "#Média de expectativa de vida para cada continente\n",
    "df.groupby(\"Continente\")[\"Expectativa de Vida\"].mean()\n"
   ]
  },
  {
   "cell_type": "code",
   "execution_count": 612,
   "id": "5d41e790",
   "metadata": {},
   "outputs": [
    {
     "data": {
      "text/html": [
       "<div>\n",
       "<style scoped>\n",
       "    .dataframe tbody tr th:only-of-type {\n",
       "        vertical-align: middle;\n",
       "    }\n",
       "\n",
       "    .dataframe tbody tr th {\n",
       "        vertical-align: top;\n",
       "    }\n",
       "\n",
       "    .dataframe thead th {\n",
       "        text-align: right;\n",
       "    }\n",
       "</style>\n",
       "<table border=\"1\" class=\"dataframe\">\n",
       "  <thead>\n",
       "    <tr style=\"text-align: right;\">\n",
       "      <th></th>\n",
       "      <th>Continente</th>\n",
       "      <th>Ano</th>\n",
       "      <th>Expectativa de Vida</th>\n",
       "      <th>Populacao Total</th>\n",
       "      <th>PIB</th>\n",
       "    </tr>\n",
       "    <tr>\n",
       "      <th>Pais</th>\n",
       "      <th></th>\n",
       "      <th></th>\n",
       "      <th></th>\n",
       "      <th></th>\n",
       "      <th></th>\n",
       "    </tr>\n",
       "  </thead>\n",
       "  <tbody>\n",
       "    <tr>\n",
       "      <th>Congo, Dem. Rep.</th>\n",
       "      <td>Africa</td>\n",
       "      <td>1952</td>\n",
       "      <td>39.143</td>\n",
       "      <td>14100005</td>\n",
       "      <td>241.165876</td>\n",
       "    </tr>\n",
       "    <tr>\n",
       "      <th>Lesotho</th>\n",
       "      <td>Africa</td>\n",
       "      <td>1952</td>\n",
       "      <td>42.138</td>\n",
       "      <td>748747</td>\n",
       "      <td>298.846212</td>\n",
       "    </tr>\n",
       "    <tr>\n",
       "      <th>Guinea-Bissau</th>\n",
       "      <td>Africa</td>\n",
       "      <td>1952</td>\n",
       "      <td>32.500</td>\n",
       "      <td>580653</td>\n",
       "      <td>299.850319</td>\n",
       "    </tr>\n",
       "    <tr>\n",
       "      <th>Eritrea</th>\n",
       "      <td>Africa</td>\n",
       "      <td>1952</td>\n",
       "      <td>35.928</td>\n",
       "      <td>1438760</td>\n",
       "      <td>328.940557</td>\n",
       "    </tr>\n",
       "    <tr>\n",
       "      <th>Myanmar</th>\n",
       "      <td>Asia</td>\n",
       "      <td>1952</td>\n",
       "      <td>36.319</td>\n",
       "      <td>20092996</td>\n",
       "      <td>331.000000</td>\n",
       "    </tr>\n",
       "    <tr>\n",
       "      <th>Burundi</th>\n",
       "      <td>Africa</td>\n",
       "      <td>1952</td>\n",
       "      <td>39.031</td>\n",
       "      <td>2445618</td>\n",
       "      <td>339.296459</td>\n",
       "    </tr>\n",
       "    <tr>\n",
       "      <th>Ethiopia</th>\n",
       "      <td>Africa</td>\n",
       "      <td>1952</td>\n",
       "      <td>34.078</td>\n",
       "      <td>20860941</td>\n",
       "      <td>362.146280</td>\n",
       "    </tr>\n",
       "    <tr>\n",
       "      <th>Cambodia</th>\n",
       "      <td>Asia</td>\n",
       "      <td>1952</td>\n",
       "      <td>31.220</td>\n",
       "      <td>4693836</td>\n",
       "      <td>368.469286</td>\n",
       "    </tr>\n",
       "    <tr>\n",
       "      <th>Malawi</th>\n",
       "      <td>Africa</td>\n",
       "      <td>1952</td>\n",
       "      <td>36.256</td>\n",
       "      <td>2917802</td>\n",
       "      <td>369.165080</td>\n",
       "    </tr>\n",
       "    <tr>\n",
       "      <th>Equatorial Guinea</th>\n",
       "      <td>Africa</td>\n",
       "      <td>1952</td>\n",
       "      <td>34.482</td>\n",
       "      <td>192675</td>\n",
       "      <td>375.643123</td>\n",
       "    </tr>\n",
       "  </tbody>\n",
       "</table>\n",
       "</div>"
      ],
      "text/plain": [
       "                  Continente   Ano  Expectativa de Vida  Populacao Total  \\\n",
       "Pais                                                                       \n",
       "Congo, Dem. Rep.      Africa  1952               39.143         14100005   \n",
       "Lesotho               Africa  1952               42.138           748747   \n",
       "Guinea-Bissau         Africa  1952               32.500           580653   \n",
       "Eritrea               Africa  1952               35.928          1438760   \n",
       "Myanmar                 Asia  1952               36.319         20092996   \n",
       "Burundi               Africa  1952               39.031          2445618   \n",
       "Ethiopia              Africa  1952               34.078         20860941   \n",
       "Cambodia                Asia  1952               31.220          4693836   \n",
       "Malawi                Africa  1952               36.256          2917802   \n",
       "Equatorial Guinea     Africa  1952               34.482           192675   \n",
       "\n",
       "                          PIB  \n",
       "Pais                           \n",
       "Congo, Dem. Rep.   241.165876  \n",
       "Lesotho            298.846212  \n",
       "Guinea-Bissau      299.850319  \n",
       "Eritrea            328.940557  \n",
       "Myanmar            331.000000  \n",
       "Burundi            339.296459  \n",
       "Ethiopia           362.146280  \n",
       "Cambodia           368.469286  \n",
       "Malawi             369.165080  \n",
       "Equatorial Guinea  375.643123  "
      ]
     },
     "execution_count": 612,
     "metadata": {},
     "output_type": "execute_result"
    }
   ],
   "source": [
    "#Exibindo os 10 paises com os menores PIBs do dataframe\n",
    "menor_pib = df.groupby('Pais').min().sort_values(by='PIB').head(10)\n",
    "menor_pib"
   ]
  },
  {
   "cell_type": "code",
   "execution_count": 613,
   "id": "b2bbcb6a",
   "metadata": {},
   "outputs": [
    {
     "data": {
      "text/html": [
       "<div>\n",
       "<style scoped>\n",
       "    .dataframe tbody tr th:only-of-type {\n",
       "        vertical-align: middle;\n",
       "    }\n",
       "\n",
       "    .dataframe tbody tr th {\n",
       "        vertical-align: top;\n",
       "    }\n",
       "\n",
       "    .dataframe thead th {\n",
       "        text-align: right;\n",
       "    }\n",
       "</style>\n",
       "<table border=\"1\" class=\"dataframe\">\n",
       "  <thead>\n",
       "    <tr style=\"text-align: right;\">\n",
       "      <th></th>\n",
       "      <th>Continente</th>\n",
       "      <th>Ano</th>\n",
       "      <th>Expectativa de Vida</th>\n",
       "      <th>Populacao Total</th>\n",
       "      <th>PIB</th>\n",
       "    </tr>\n",
       "    <tr>\n",
       "      <th>Pais</th>\n",
       "      <th></th>\n",
       "      <th></th>\n",
       "      <th></th>\n",
       "      <th></th>\n",
       "      <th></th>\n",
       "    </tr>\n",
       "  </thead>\n",
       "  <tbody>\n",
       "    <tr>\n",
       "      <th>Kuwait</th>\n",
       "      <td>Asia</td>\n",
       "      <td>2007</td>\n",
       "      <td>77.588</td>\n",
       "      <td>2505559</td>\n",
       "      <td>113523.13290</td>\n",
       "    </tr>\n",
       "    <tr>\n",
       "      <th>Qatar</th>\n",
       "      <td>Asia</td>\n",
       "      <td>2007</td>\n",
       "      <td>75.588</td>\n",
       "      <td>907229</td>\n",
       "      <td>82010.97804</td>\n",
       "    </tr>\n",
       "    <tr>\n",
       "      <th>Brunei</th>\n",
       "      <td>Asia</td>\n",
       "      <td>2007</td>\n",
       "      <td>77.118</td>\n",
       "      <td>386511</td>\n",
       "      <td>72555.22854</td>\n",
       "    </tr>\n",
       "    <tr>\n",
       "      <th>Luxembourg</th>\n",
       "      <td>Europe</td>\n",
       "      <td>2005</td>\n",
       "      <td>79.570</td>\n",
       "      <td>468571</td>\n",
       "      <td>70014.00000</td>\n",
       "    </tr>\n",
       "    <tr>\n",
       "      <th>Macao, China</th>\n",
       "      <td>Asia</td>\n",
       "      <td>2007</td>\n",
       "      <td>80.718</td>\n",
       "      <td>456989</td>\n",
       "      <td>54589.82024</td>\n",
       "    </tr>\n",
       "    <tr>\n",
       "      <th>United Arab Emirates</th>\n",
       "      <td>Asia</td>\n",
       "      <td>2007</td>\n",
       "      <td>78.672</td>\n",
       "      <td>2642566</td>\n",
       "      <td>53335.17575</td>\n",
       "    </tr>\n",
       "    <tr>\n",
       "      <th>Norway</th>\n",
       "      <td>Europe</td>\n",
       "      <td>2007</td>\n",
       "      <td>80.550</td>\n",
       "      <td>4627926</td>\n",
       "      <td>49357.19017</td>\n",
       "    </tr>\n",
       "    <tr>\n",
       "      <th>Singapore</th>\n",
       "      <td>Asia</td>\n",
       "      <td>2007</td>\n",
       "      <td>79.972</td>\n",
       "      <td>4553009</td>\n",
       "      <td>47143.17964</td>\n",
       "    </tr>\n",
       "    <tr>\n",
       "      <th>United States</th>\n",
       "      <td>Americas</td>\n",
       "      <td>2007</td>\n",
       "      <td>78.242</td>\n",
       "      <td>301139947</td>\n",
       "      <td>42951.65309</td>\n",
       "    </tr>\n",
       "    <tr>\n",
       "      <th>Ireland</th>\n",
       "      <td>Europe</td>\n",
       "      <td>2007</td>\n",
       "      <td>78.885</td>\n",
       "      <td>4109086</td>\n",
       "      <td>40675.99635</td>\n",
       "    </tr>\n",
       "  </tbody>\n",
       "</table>\n",
       "</div>"
      ],
      "text/plain": [
       "                     Continente   Ano  Expectativa de Vida  Populacao Total  \\\n",
       "Pais                                                                          \n",
       "Kuwait                     Asia  2007               77.588          2505559   \n",
       "Qatar                      Asia  2007               75.588           907229   \n",
       "Brunei                     Asia  2007               77.118           386511   \n",
       "Luxembourg               Europe  2005               79.570           468571   \n",
       "Macao, China               Asia  2007               80.718           456989   \n",
       "United Arab Emirates       Asia  2007               78.672          2642566   \n",
       "Norway                   Europe  2007               80.550          4627926   \n",
       "Singapore                  Asia  2007               79.972          4553009   \n",
       "United States          Americas  2007               78.242        301139947   \n",
       "Ireland                  Europe  2007               78.885          4109086   \n",
       "\n",
       "                               PIB  \n",
       "Pais                                \n",
       "Kuwait                113523.13290  \n",
       "Qatar                  82010.97804  \n",
       "Brunei                 72555.22854  \n",
       "Luxembourg             70014.00000  \n",
       "Macao, China           54589.82024  \n",
       "United Arab Emirates   53335.17575  \n",
       "Norway                 49357.19017  \n",
       "Singapore              47143.17964  \n",
       "United States          42951.65309  \n",
       "Ireland                40675.99635  "
      ]
     },
     "execution_count": 613,
     "metadata": {},
     "output_type": "execute_result"
    }
   ],
   "source": [
    "#Exibindo os 10 paises com os maiores PIBs do dataframe\n",
    "maior_pib = df.groupby('Pais').max().sort_values(by='PIB',ascending=False).head(10)\n",
    "maior_pib"
   ]
  },
  {
   "cell_type": "code",
   "execution_count": 647,
   "id": "6914a0f6",
   "metadata": {},
   "outputs": [
    {
     "data": {
      "text/html": [
       "<div>\n",
       "<style scoped>\n",
       "    .dataframe tbody tr th:only-of-type {\n",
       "        vertical-align: middle;\n",
       "    }\n",
       "\n",
       "    .dataframe tbody tr th {\n",
       "        vertical-align: top;\n",
       "    }\n",
       "\n",
       "    .dataframe thead th {\n",
       "        text-align: right;\n",
       "    }\n",
       "</style>\n",
       "<table border=\"1\" class=\"dataframe\">\n",
       "  <thead>\n",
       "    <tr style=\"text-align: right;\">\n",
       "      <th></th>\n",
       "      <th>Continente</th>\n",
       "      <th>Ano</th>\n",
       "      <th>Expectativa de Vida</th>\n",
       "      <th>Populacao Total</th>\n",
       "      <th>PIB</th>\n",
       "    </tr>\n",
       "    <tr>\n",
       "      <th>Pais</th>\n",
       "      <th></th>\n",
       "      <th></th>\n",
       "      <th></th>\n",
       "      <th></th>\n",
       "      <th></th>\n",
       "    </tr>\n",
       "  </thead>\n",
       "  <tbody>\n",
       "    <tr>\n",
       "      <th>Dominican Republic</th>\n",
       "      <td>Americas</td>\n",
       "      <td>1952</td>\n",
       "      <td>45.928</td>\n",
       "      <td>2491346</td>\n",
       "      <td>1397.717137</td>\n",
       "    </tr>\n",
       "    <tr>\n",
       "      <th>Paraguay</th>\n",
       "      <td>Americas</td>\n",
       "      <td>1952</td>\n",
       "      <td>62.649</td>\n",
       "      <td>1555876</td>\n",
       "      <td>1952.308701</td>\n",
       "    </tr>\n",
       "    <tr>\n",
       "      <th>Brazil</th>\n",
       "      <td>Americas</td>\n",
       "      <td>1952</td>\n",
       "      <td>50.917</td>\n",
       "      <td>56602560</td>\n",
       "      <td>2108.944355</td>\n",
       "    </tr>\n",
       "    <tr>\n",
       "      <th>Bolivia</th>\n",
       "      <td>Americas</td>\n",
       "      <td>1952</td>\n",
       "      <td>40.414</td>\n",
       "      <td>2883315</td>\n",
       "      <td>2127.686326</td>\n",
       "    </tr>\n",
       "    <tr>\n",
       "      <th>Colombia</th>\n",
       "      <td>Americas</td>\n",
       "      <td>1952</td>\n",
       "      <td>50.643</td>\n",
       "      <td>12350771</td>\n",
       "      <td>2144.115096</td>\n",
       "    </tr>\n",
       "  </tbody>\n",
       "</table>\n",
       "</div>"
      ],
      "text/plain": [
       "                   Continente   Ano  Expectativa de Vida  Populacao Total  \\\n",
       "Pais                                                                        \n",
       "Dominican Republic   Americas  1952               45.928          2491346   \n",
       "Paraguay             Americas  1952               62.649          1555876   \n",
       "Brazil               Americas  1952               50.917         56602560   \n",
       "Bolivia              Americas  1952               40.414          2883315   \n",
       "Colombia             Americas  1952               50.643         12350771   \n",
       "\n",
       "                            PIB  \n",
       "Pais                             \n",
       "Dominican Republic  1397.717137  \n",
       "Paraguay            1952.308701  \n",
       "Brazil              2108.944355  \n",
       "Bolivia             2127.686326  \n",
       "Colombia            2144.115096  "
      ]
     },
     "execution_count": 647,
     "metadata": {},
     "output_type": "execute_result"
    }
   ],
   "source": [
    "#Exibindo os 5 países da América que contém os menores PIBs\n",
    "filtro = df.loc[df.Continente == 'Americas']\n",
    "\n",
    "filtro.groupby(['Pais']).min().sort_values(by='PIB').head(5)"
   ]
  },
  {
   "cell_type": "code",
   "execution_count": 648,
   "id": "f5e454e2",
   "metadata": {},
   "outputs": [
    {
     "data": {
      "text/html": [
       "<div>\n",
       "<style scoped>\n",
       "    .dataframe tbody tr th:only-of-type {\n",
       "        vertical-align: middle;\n",
       "    }\n",
       "\n",
       "    .dataframe tbody tr th {\n",
       "        vertical-align: top;\n",
       "    }\n",
       "\n",
       "    .dataframe thead th {\n",
       "        text-align: right;\n",
       "    }\n",
       "</style>\n",
       "<table border=\"1\" class=\"dataframe\">\n",
       "  <thead>\n",
       "    <tr style=\"text-align: right;\">\n",
       "      <th></th>\n",
       "      <th>Continente</th>\n",
       "      <th>Ano</th>\n",
       "      <th>Expectativa de Vida</th>\n",
       "      <th>Populacao Total</th>\n",
       "      <th>PIB</th>\n",
       "    </tr>\n",
       "    <tr>\n",
       "      <th>Pais</th>\n",
       "      <th></th>\n",
       "      <th></th>\n",
       "      <th></th>\n",
       "      <th></th>\n",
       "      <th></th>\n",
       "    </tr>\n",
       "  </thead>\n",
       "  <tbody>\n",
       "    <tr>\n",
       "      <th>United States</th>\n",
       "      <td>Americas</td>\n",
       "      <td>2007</td>\n",
       "      <td>78.242</td>\n",
       "      <td>301139947</td>\n",
       "      <td>42951.65309</td>\n",
       "    </tr>\n",
       "    <tr>\n",
       "      <th>Puerto Rico</th>\n",
       "      <td>Americas</td>\n",
       "      <td>2007</td>\n",
       "      <td>78.746</td>\n",
       "      <td>3942491</td>\n",
       "      <td>19328.70901</td>\n",
       "    </tr>\n",
       "    <tr>\n",
       "      <th>Trinidad and Tobago</th>\n",
       "      <td>Americas</td>\n",
       "      <td>2007</td>\n",
       "      <td>69.862</td>\n",
       "      <td>1191336</td>\n",
       "      <td>18008.50924</td>\n",
       "    </tr>\n",
       "    <tr>\n",
       "      <th>Chile</th>\n",
       "      <td>Americas</td>\n",
       "      <td>2007</td>\n",
       "      <td>78.553</td>\n",
       "      <td>16284741</td>\n",
       "      <td>13171.63885</td>\n",
       "    </tr>\n",
       "    <tr>\n",
       "      <th>Venezuela</th>\n",
       "      <td>Americas</td>\n",
       "      <td>2007</td>\n",
       "      <td>73.747</td>\n",
       "      <td>26084662</td>\n",
       "      <td>13143.95095</td>\n",
       "    </tr>\n",
       "  </tbody>\n",
       "</table>\n",
       "</div>"
      ],
      "text/plain": [
       "                    Continente   Ano  Expectativa de Vida  Populacao Total  \\\n",
       "Pais                                                                         \n",
       "United States         Americas  2007               78.242        301139947   \n",
       "Puerto Rico           Americas  2007               78.746          3942491   \n",
       "Trinidad and Tobago   Americas  2007               69.862          1191336   \n",
       "Chile                 Americas  2007               78.553         16284741   \n",
       "Venezuela             Americas  2007               73.747         26084662   \n",
       "\n",
       "                             PIB  \n",
       "Pais                              \n",
       "United States        42951.65309  \n",
       "Puerto Rico          19328.70901  \n",
       "Trinidad and Tobago  18008.50924  \n",
       "Chile                13171.63885  \n",
       "Venezuela            13143.95095  "
      ]
     },
     "execution_count": 648,
     "metadata": {},
     "output_type": "execute_result"
    }
   ],
   "source": [
    "#Exibindo os 5 países da América que contém os maiores PIBs\n",
    "filtro2 = df.loc[df.Continente == 'Americas']\n",
    "\n",
    "\n",
    "filtro2.groupby(['Pais']).max().sort_values(by='PIB', ascending=False).head(5)"
   ]
  },
  {
   "cell_type": "code",
   "execution_count": 616,
   "id": "4120247e",
   "metadata": {},
   "outputs": [
    {
     "data": {
      "text/plain": [
       "Continente\n",
       "Africa            6189783739\n",
       "Americas         17083924131\n",
       "Asia             54551147698\n",
       "Europe           19941358543\n",
       "FSU               4263980917\n",
       "Nao Informado     2503119723\n",
       "Oceania            175203634\n",
       "Name: Populacao Total, dtype: int64"
      ]
     },
     "execution_count": 616,
     "metadata": {},
     "output_type": "execute_result"
    }
   ],
   "source": [
    "#Populacao total de cada Continente\n",
    "total_continente = df.groupby(\"Continente\")[\"Populacao Total\"].sum()\n",
    "total_continente"
   ]
  },
  {
   "cell_type": "code",
   "execution_count": 649,
   "id": "5a006d8f",
   "metadata": {},
   "outputs": [
    {
     "data": {
      "text/plain": [
       "Pais\n",
       "Argentina    69.060417\n",
       "Bolivia      52.504583\n",
       "Brazil       62.239500\n",
       "Chile        67.430917\n",
       "Colombia     63.897750\n",
       "Name: Expectativa de Vida, dtype: float64"
      ]
     },
     "execution_count": 649,
     "metadata": {},
     "output_type": "execute_result"
    }
   ],
   "source": [
    "#Exibindo a média de expectativa de vida de 5 paises da América do Sul\n",
    "filtro2.groupby(\"Pais\")[\"Expectativa de Vida\"].mean().head(5)"
   ]
  },
  {
   "cell_type": "markdown",
   "id": "f479a379",
   "metadata": {},
   "source": [
    "### Visualização dos Dados"
   ]
  },
  {
   "cell_type": "code",
   "execution_count": 519,
   "id": "2a7ecc83",
   "metadata": {},
   "outputs": [
    {
     "data": {
      "image/png": "[encoded data removed]",
      "text/plain": [
       "<Figure size 576x396 with 2 Axes>"
      ]
     },
     "metadata": {},
     "output_type": "display_data"
    }
   ],
   "source": [
    "\n",
    "#Gerando um gráfico 'heatmap' dos dados da tabela 'Gapminder'\n",
    "Corr = df[df.columns].corr()\n",
    "sns.heatmap(Corr, annot=True);"
   ]
  },
  {
   "cell_type": "code",
   "execution_count": 520,
   "id": "41a542f9",
   "metadata": {},
   "outputs": [
    {
     "data": {
      "image/png": "[encoded data removed]",
      "text/plain": [
       "<Figure size 720x720 with 20 Axes>"
      ]
     },
     "metadata": {},
     "output_type": "display_data"
    }
   ],
   "source": [
    "#Gerando múltiplos gráficos\n",
    "sns.pairplot(df);\n"
   ]
  },
  {
   "cell_type": "code",
   "execution_count": 650,
   "id": "8eba7dec",
   "metadata": {},
   "outputs": [
    {
     "data": {
      "image/png": "[encoded data removed]",
      "text/plain": [
       "<Figure size 720x576 with 4 Axes>"
      ]
     },
     "metadata": {},
     "output_type": "display_data"
    }
   ],
   "source": [
    "#Histograma\n",
    "df.hist(figsize = (10,8));\n"
   ]
  },
  {
   "cell_type": "code",
   "execution_count": 651,
   "id": "e551b986",
   "metadata": {},
   "outputs": [
    {
     "data": {
      "image/png": "[encoded data removed]",
      "text/plain": [
       "<Figure size 576x396 with 1 Axes>"
      ]
     },
     "metadata": {},
     "output_type": "display_data"
    }
   ],
   "source": [
    "#Exibindo a quantidade de Países de cada Continente\n",
    "df.groupby(\"Continente\")[\"Pais\"].nunique().plot.bar(title=\"Total de Paises x Continente\")\n",
    "plt.xlabel(\"Continentes\")\n",
    "plt.ylabel(\"Total Paises\");"
   ]
  },
  {
   "cell_type": "code",
   "execution_count": 548,
   "id": "cbd5dbe6",
   "metadata": {},
   "outputs": [
    {
     "data": {
      "image/png": "[encoded data removed]",
      "text/plain": [
       "<Figure size 576x396 with 1 Axes>"
      ]
     },
     "metadata": {},
     "output_type": "display_data"
    }
   ],
   "source": [
    "sns.barplot(data=df, x = 'Continente', y = 'Expectativa de Vida').set_title('Expectativa de Vida X Continente');\n",
    "\n"
   ]
  },
  {
   "cell_type": "code",
   "execution_count": 636,
   "id": "676bfe7c",
   "metadata": {},
   "outputs": [
    {
     "data": {
      "image/png": "[encoded data removed]",
      "text/plain": [
       "<Figure size 576x396 with 1 Axes>"
      ]
     },
     "metadata": {},
     "output_type": "display_data"
    }
   ],
   "source": [
    "#Média de expectativa de vida para cada continente\n",
    "df.groupby(\"Continente\")[\"Expectativa de Vida\"].mean().plot.bar(title=\"Média de expectativa de vida X Continente\", color='lightseagreen')\n",
    "plt.ylabel('Média');"
   ]
  },
  {
   "cell_type": "code",
   "execution_count": null,
   "id": "c53d9766",
   "metadata": {},
   "outputs": [],
   "source": []
  }
 ],
 "metadata": {
  "kernelspec": {
   "display_name": "Python 3",
   "language": "python",
   "name": "python3"
  },
  "language_info": {
   "codemirror_mode": {
    "name": "ipython",
    "version": 3
   },
   "file_extension": ".py",
   "mimetype": "text/x-python",
   "name": "python",
   "nbconvert_exporter": "python",
   "pygments_lexer": "ipython3",
   "version": "3.8.8"
  }
 },
 "nbformat": 4,
 "nbformat_minor": 5
}
